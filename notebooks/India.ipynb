{
 "cells": [
  {
   "cell_type": "markdown",
   "metadata": {
    "toc": true
   },
   "source": [
    "<h1>Table of Contents<span class=\"tocSkip\"></span></h1>\n",
    "<div class=\"toc\"><ul class=\"toc-item\"><li><span><a href=\"#India\" data-toc-modified-id=\"India-1\"><span class=\"toc-item-num\">1&nbsp;&nbsp;</span>India</a></span></li><li><span><a href=\"#Load-data\" data-toc-modified-id=\"Load-data-2\"><span class=\"toc-item-num\">2&nbsp;&nbsp;</span>Load data</a></span></li><li><span><a href=\"#Fit-and-Predict\" data-toc-modified-id=\"Fit-and-Predict-3\"><span class=\"toc-item-num\">3&nbsp;&nbsp;</span>Fit and Predict</a></span></li><li><span><a href=\"#Display-Actual-vs-Prediction\" data-toc-modified-id=\"Display-Actual-vs-Prediction-4\"><span class=\"toc-item-num\">4&nbsp;&nbsp;</span>Display Actual vs Prediction</a></span></li><li><span><a href=\"#Commentary\" data-toc-modified-id=\"Commentary-5\"><span class=\"toc-item-num\">5&nbsp;&nbsp;</span>Commentary</a></span><ul class=\"toc-item\"><li><span><a href=\"#21st-May\" data-toc-modified-id=\"21st-May-5.1\"><span class=\"toc-item-num\">5.1&nbsp;&nbsp;</span>21st May</a></span></li><li><span><a href=\"#15th-May\" data-toc-modified-id=\"15th-May-5.2\"><span class=\"toc-item-num\">5.2&nbsp;&nbsp;</span>15th May</a></span></li></ul></li></ul></div>"
   ]
  },
  {
   "cell_type": "markdown",
   "metadata": {},
   "source": [
    "## India\n",
    "\n",
    "## Load data"
   ]
  },
  {
   "cell_type": "code",
   "execution_count": 5,
   "metadata": {
    "ExecuteTime": {
     "end_time": "2020-05-21T06:17:22.572419Z",
     "start_time": "2020-05-21T06:17:21.462295Z"
    }
   },
   "outputs": [],
   "source": [
    "import sys\n",
    "from os import path\n",
    "sys.path.append(path.pardir)\n",
    "from src.covid import CovidCountry\n",
    "import pandas as pd\n",
    "\n",
    "# Get our Country model data\n",
    "country = 'India'\n",
    "filepath = '../data/raw/'\n",
    "\n",
    "cty = CovidCountry(country=country,\n",
    "                  filepath=filepath)\n",
    "cty.load()"
   ]
  },
  {
   "cell_type": "markdown",
   "metadata": {},
   "source": [
    "## Fit and Predict"
   ]
  },
  {
   "cell_type": "code",
   "execution_count": null,
   "metadata": {
    "ExecuteTime": {
     "end_time": "2020-05-21T06:18:35.325464Z",
     "start_time": "2020-05-21T06:17:22.574249Z"
    }
   },
   "outputs": [],
   "source": [
    "cty.fit(curve='gamma')\n",
    "df = cty.predict()\n",
    "cty.save(filepath='../data/processed/')"
   ]
  },
  {
   "cell_type": "code",
   "execution_count": null,
   "metadata": {
    "ExecuteTime": {
     "end_time": "2020-05-21T06:18:35.337750Z",
     "start_time": "2020-05-21T06:18:35.327038Z"
    }
   },
   "outputs": [],
   "source": [
    "# Show small window of prediction and actual\n",
    "df[pd.Timestamp.now().date()-pd.Timedelta('3D'):].diff()[1:6]"
   ]
  },
  {
   "cell_type": "markdown",
   "metadata": {},
   "source": [
    "## Display Actual vs Prediction"
   ]
  },
  {
   "cell_type": "code",
   "execution_count": null,
   "metadata": {
    "ExecuteTime": {
     "end_time": "2020-05-21T06:18:35.769382Z",
     "start_time": "2020-05-21T06:18:35.339394Z"
    },
    "scrolled": false
   },
   "outputs": [],
   "source": [
    "cty.display(offset=100)"
   ]
  },
  {
   "cell_type": "markdown",
   "metadata": {},
   "source": [
    "## Commentary\n",
    "### 8th Aug\n",
    "Rolled start date back from 1st March, to mid Feb. Increased duration and total cases. This will still need to be substantially tweaked to fit.\n",
    "\n",
    "### 31st July\n",
    "Model tweak - much higher values and duration.\n",
    "\n",
    "### 21st June\n",
    "It keeps rising over a surprisingly long time. Still quite low per capita.\n",
    "\n",
    "### 21st May\n",
    "The rise in cases will change the final curve significantly. The next two weeks will be key in knowing what the curve will look like for all cases.\n",
    "\n",
    "### 15th May\n",
    "Added India to modeling"
   ]
  },
  {
   "cell_type": "code",
   "execution_count": null,
   "metadata": {},
   "outputs": [],
   "source": []
  }
 ],
 "metadata": {
  "kernelspec": {
   "display_name": "Python 3",
   "language": "python",
   "name": "python3"
  },
  "language_info": {
   "codemirror_mode": {
    "name": "ipython",
    "version": 3
   },
   "file_extension": ".py",
   "mimetype": "text/x-python",
   "name": "python",
   "nbconvert_exporter": "python",
   "pygments_lexer": "ipython3",
   "version": "3.8.3"
  },
  "toc": {
   "base_numbering": 1,
   "nav_menu": {},
   "number_sections": true,
   "sideBar": true,
   "skip_h1_title": true,
   "title_cell": "Table of Contents",
   "title_sidebar": "Contents",
   "toc_cell": true,
   "toc_position": {},
   "toc_section_display": true,
   "toc_window_display": false
  },
  "varInspector": {
   "cols": {
    "lenName": 16,
    "lenType": 16,
    "lenVar": 40
   },
   "kernels_config": {
    "python": {
     "delete_cmd_postfix": "",
     "delete_cmd_prefix": "del ",
     "library": "var_list.py",
     "varRefreshCmd": "print(var_dic_list())"
    },
    "r": {
     "delete_cmd_postfix": ") ",
     "delete_cmd_prefix": "rm(",
     "library": "var_list.r",
     "varRefreshCmd": "cat(var_dic_list()) "
    }
   },
   "types_to_exclude": [
    "module",
    "function",
    "builtin_function_or_method",
    "instance",
    "_Feature"
   ],
   "window_display": false
  }
 },
 "nbformat": 4,
 "nbformat_minor": 2
}
